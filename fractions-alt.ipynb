{
 "cells": [
  {
   "cell_type": "code",
   "execution_count": 1,
   "metadata": {
    "collapsed": true
   },
   "outputs": [],
   "source": [
    "%matplotlib inline\n",
    "\n",
    "import matplotlib\n",
    "import numpy as np\n",
    "import matplotlib.pyplot as plt"
   ]
  },
  {
   "cell_type": "code",
   "execution_count": 2,
   "metadata": {
    "collapsed": false
   },
   "outputs": [
    {
     "data": {
      "image/png": "[encoded data removed]",
      "text/plain": [
       "<matplotlib.figure.Figure at 0x7f193bf93510>"
      ]
     },
     "metadata": {},
     "output_type": "display_data"
    }
   ],
   "source": [
    "\n",
    "import numpy as np\n",
    "\n",
    "# new grayscale alg from Thomas Baruchel\n",
    "def grayify(complexes):\n",
    "    h = np.angle(complexes) / (np.pi/2.0)\n",
    "    h = np.abs(np.abs(h)-1.0)\n",
    "    return [ str(g) for g in h]\n",
    "\n",
    "def cf(num, den, z, limit, n=1):\n",
    "# this isn't quite right\n",
    "    if den(n,z) == 0: return 1 # to eliminate div0 problems. maybe\n",
    "#    if n < limit : return den(n, z) + num(n+1, z)/cf(num,den,z,limit,n+1)\n",
    "#    if n == limit : return den(n+1,z) \n",
    "    if n < limit: return den(n, z) + num(n+1, z)/cf(num,den,z,limit,n+1)\n",
    "    if n == limit: return num(n, z)/den(n, z)\n",
    "\n",
    "\n",
    "# calculates #181 from https://kettenreihen.wordpress.com/\n",
    "# Probably not right, but result is a little evocative, at least\n",
    "points = 100  # number of points in each direction\n",
    "scale = 2     # max value domain \n",
    "r = range(-points,points) \n",
    "domain =  [x*scale/points + 1j*y*scale/points for x in r for y in r ]\n",
    "values = [ cf(lambda n,z:z-n+1, lambda n,z:n*z,p,100) for p in domain]\n",
    "\n",
    "grays = grayify(values)\n",
    "plt.scatter(np.real(domain), np.imag(domain), s=1, color=grays)\n",
    "plt.show()\n"
   ]
  },
  {
   "cell_type": "code",
   "execution_count": null,
   "metadata": {
    "collapsed": true
   },
   "outputs": [],
   "source": []
  }
 ],
 "metadata": {
  "kernelspec": {
   "display_name": "Python 2",
   "language": "python",
   "name": "python2"
  },
  "language_info": {
   "codemirror_mode": {
    "name": "ipython",
    "version": 2
   },
   "file_extension": ".py",
   "mimetype": "text/x-python",
   "name": "python",
   "nbconvert_exporter": "python",
   "pygments_lexer": "ipython2",
   "version": "2.7.12"
  }
 },
 "nbformat": 4,
 "nbformat_minor": 2
}
